{
 "cells": [
  {
   "cell_type": "code",
   "execution_count": null,
   "metadata": {},
   "outputs": [],
   "source": [
    "import pyperclip"
   ]
  },
  {
   "cell_type": "code",
   "execution_count": null,
   "metadata": {},
   "outputs": [],
   "source": [
    "data = pyperclip.paste().split(\"\\n\")"
   ]
  },
  {
   "cell_type": "code",
   "execution_count": null,
   "metadata": {},
   "outputs": [],
   "source": [
    "list_a = []\n",
    "list_b = []\n",
    "\n",
    "for line in data:\n",
    "    a, b = line.split(\"   \")\n",
    "    list_a.append(int(a))\n",
    "    list_b.append(int(b))"
   ]
  },
  {
   "cell_type": "code",
   "execution_count": null,
   "metadata": {},
   "outputs": [],
   "source": [
    "a_sorted = sorted(list_a)\n",
    "b_sorted = sorted(list_b)\n",
    "\n",
    "diff = sum(abs(a_sorted[i] - b_sorted[i]) for i in range(len(a_sorted)))"
   ]
  },
  {
   "cell_type": "code",
   "execution_count": null,
   "metadata": {},
   "outputs": [],
   "source": [
    "a_idx = 0\n",
    "b_idx = 0\n",
    "\n",
    "a_val = -1\n",
    "b_val = -1\n",
    "\n",
    "total = 0\n",
    "\n",
    "current_val_sum = 0\n",
    "\n",
    "while True:\n",
    "\n",
    "    if (a_idx >= len(a_sorted)) or (b_idx >= len(b_sorted)):\n",
    "        break\n",
    "\n",
    "    count = 0\n",
    "\n",
    "    b_val = b_sorted[b_idx]\n",
    "\n",
    "\n",
    "    if b_val > a_val:\n",
    "        total += count * a_val\n",
    "        a_idx += 1\n",
    "\n",
    "        if a_sorted[a_idx] == a_val:\n",
    "            total += current_val_sum\n",
    "            current_val_sum = 0\n",
    "            continue\n",
    "        else:\n",
    "            total += current_val_sum\n",
    "            current_val_sum = 0\n",
    "        a_val = a_sorted[a_idx]\n",
    "        # print(a_val, \"<\", b_val)\n",
    "        continue\n",
    "\n",
    "    if b_val < a_val:\n",
    "        b_idx += 1\n",
    "        # print(a_val, \">\", b_val)\n",
    "        continue\n",
    "\n",
    "    # print(a_val, \"=\", b_val)\n",
    "\n",
    "\n",
    "    b_idx += 1\n",
    "    current_val_sum += a_val\n",
    "\n",
    "    \n",
    "\n",
    "total"
   ]
  }
 ],
 "metadata": {
  "kernelspec": {
   "display_name": "stonks11",
   "language": "python",
   "name": "python3"
  },
  "language_info": {
   "codemirror_mode": {
    "name": "ipython",
    "version": 3
   },
   "file_extension": ".py",
   "mimetype": "text/x-python",
   "name": "python",
   "nbconvert_exporter": "python",
   "pygments_lexer": "ipython3",
   "version": "3.11.5"
  }
 },
 "nbformat": 4,
 "nbformat_minor": 2
}
