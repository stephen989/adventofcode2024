{
 "cells": [
  {
   "cell_type": "code",
   "execution_count": null,
   "metadata": {},
   "outputs": [],
   "source": [
    "import pyperclip"
   ]
  },
  {
   "cell_type": "code",
   "execution_count": null,
   "metadata": {},
   "outputs": [],
   "source": [
    "data = pyperclip.paste().split(\"\\n\")"
   ]
  },
  {
   "cell_type": "code",
   "execution_count": null,
   "metadata": {},
   "outputs": [],
   "source": [
    "def compare(vals, skip_idx) -> int:\n",
    "    n_fails = 0\n",
    "\n",
    "    left_check = 0 if skip_idx != 0 else 1\n",
    "    right_check = 1 if skip_idx > 1 else 2\n",
    "\n",
    "    if (vals[left_check] >= vals[right_check]):\n",
    "        # print(left_check, right_check)\n",
    "        vals.reverse()\n",
    "\n",
    "    left = vals[0] if skip_idx != 0 else vals[1]\n",
    "\n",
    "    start_idx = 1 if skip_idx != 0 else 2\n",
    "\n",
    "    for i in range(start_idx, len(vals)):\n",
    "        right = vals[i]\n",
    "\n",
    "        if (skip_idx == i) and (skip_idx >= 0):\n",
    "            continue\n",
    "\n",
    "        diff = right - left\n",
    "\n",
    "        if not (1 <= diff <= 3):\n",
    "            n_fails += 1\n",
    "            # print(\"Unsafe: \", vals, diff, n_fails)\n",
    "\n",
    "        left = right\n",
    "    \n",
    "    return n_fails\n",
    "\n",
    "safe = 0\n",
    "for line in data:\n",
    "    safe_line = True\n",
    "    should_compare = True\n",
    "    vals = [int(i) for i in line.split(\" \")]\n",
    "    \n",
    "    n_fails = compare(vals, -1)\n",
    "    \n",
    "    if n_fails == 0:\n",
    "        safe += 1\n",
    "        # print(\"Safe: \", line)\n",
    "\n",
    "    elif n_fails < 30:\n",
    "        for skip_idx in range(len(vals)):\n",
    "            n_fails_with_skip = compare(vals.copy(), skip_idx)\n",
    "            if n_fails_with_skip == 0:\n",
    "                safe += 1\n",
    "                # print(\"Safe: \", line)\n",
    "                break\n",
    "        \n",
    "        if n_fails_with_skip > 0:\n",
    "            print(\"Unsafe: \", vals, n_fails_with_skip)\n",
    "\n",
    "\n",
    "        \n",
    "\n",
    "safe"
   ]
  },
  {
   "cell_type": "code",
   "execution_count": null,
   "metadata": {},
   "outputs": [],
   "source": [
    "vals = [1, 2, 3, 4, 3]\n",
    "vals = [5, 4, 3, 2, 9]\n",
    "\n",
    "for skip_idx in range(len(vals)):\n",
    "    n_fails_with_skip = compare(vals.copy(), skip_idx)\n",
    "    if n_fails_with_skip == 0:\n",
    "        safe += 1\n",
    "        # print(\"Safe: \", line)\n",
    "        break\n",
    "    \n",
    "if n_fails_with_skip > 0:\n",
    "    print(\"Unsafe: \", vals, n_fails_with_skip)"
   ]
  }
 ],
 "metadata": {
  "kernelspec": {
   "display_name": "stonks11",
   "language": "python",
   "name": "python3"
  },
  "language_info": {
   "codemirror_mode": {
    "name": "ipython",
    "version": 3
   },
   "file_extension": ".py",
   "mimetype": "text/x-python",
   "name": "python",
   "nbconvert_exporter": "python",
   "pygments_lexer": "ipython3",
   "version": "3.11.5"
  }
 },
 "nbformat": 4,
 "nbformat_minor": 2
}
