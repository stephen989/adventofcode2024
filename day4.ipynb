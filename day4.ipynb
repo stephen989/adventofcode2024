{
 "cells": [
  {
   "cell_type": "code",
   "execution_count": 47,
   "metadata": {},
   "outputs": [],
   "source": [
    "import pyperclip\n",
    "import itertools"
   ]
  },
  {
   "cell_type": "code",
   "execution_count": 116,
   "metadata": {},
   "outputs": [
    {
     "data": {
      "text/plain": [
       "['MMMSXXMASM',\n",
       " 'MSAMXMSMSA',\n",
       " 'AMXSXMAAMM',\n",
       " 'MSAMASMSMX',\n",
       " 'XMASAMXAMM',\n",
       " 'XXAMMXXAMA',\n",
       " 'SMSMSASXSS',\n",
       " 'SAXAMASAAA',\n",
       " 'MAMMMXMMMM']"
      ]
     },
     "execution_count": 116,
     "metadata": {},
     "output_type": "execute_result"
    }
   ],
   "source": [
    "data = [s.strip() for s in pyperclip.paste().split(\"\\n\")][:-1]\n",
    "data"
   ]
  },
  {
   "cell_type": "code",
   "execution_count": 117,
   "metadata": {},
   "outputs": [
    {
     "name": "stdout",
     "output_type": "stream",
     "text": [
      "Success 0 4\n",
      "Success 0 5\n",
      "Success 1 4\n",
      "Success 3 9\n",
      "Success 3 9\n",
      "Success 4 0\n",
      "Success 4 6\n",
      "Success 4 6\n",
      "Success 5 0\n",
      "Success 5 6\n"
     ]
    },
    {
     "data": {
      "text/plain": [
       "10"
      ]
     },
     "execution_count": 117,
     "metadata": {},
     "output_type": "execute_result"
    }
   ],
   "source": [
    "def increase(col, min_val, max_val):\n",
    "    j = col\n",
    "    while True:\n",
    "        j += 1\n",
    "        yield j\n",
    "        \n",
    "\n",
    "def decrease(col, min_val, max_val):\n",
    "    j = col\n",
    "    while True:\n",
    "        j -= 1\n",
    "        yield j\n",
    "\n",
    "def nothing(col, boundary, deez):\n",
    "    while True:\n",
    "        yield col\n",
    "\n",
    "def in_range(val, min_val, max_val):\n",
    "    return min_val <= val <= max_val\n",
    "\n",
    "combinations = list(itertools.product([increase, decrease, nothing], repeat=2))\n",
    "\n",
    "ncols = len(data[0])\n",
    "nrows = len(data)\n",
    "\n",
    "word = \"XMAS\"\n",
    "total = 0\n",
    "\n",
    "for row in range(nrows):\n",
    "    for col in range(ncols):\n",
    "\n",
    "        curr_row, curr_col = row, col\n",
    "\n",
    "        if (data[curr_row][curr_col] != word[0]):\n",
    "            continue\n",
    "\n",
    "        for (row_op, col_op) in combinations:\n",
    "            pos = 1\n",
    "            success = True\n",
    "            row_gen = row_op(curr_row, 0, 1000)\n",
    "            col_gen = col_op(curr_col, 0, 1000)\n",
    "\n",
    "            while pos < len(word):\n",
    "                r = next(row_gen)\n",
    "                c = next(col_gen)\n",
    "                if not(in_range(r, 0, nrows-1)) or not(in_range(c, 0, ncols-1)) or data[r][c] != word[pos]:\n",
    "                    success = False\n",
    "                    break\n",
    "\n",
    "                pos += 1\n",
    "            \n",
    "            if success:\n",
    "                print(\"Success\", row, col)\n",
    "                total += 1\n",
    "\n",
    "total\n",
    "\n"
   ]
  },
  {
   "cell_type": "code",
   "execution_count": 118,
   "metadata": {},
   "outputs": [
    {
     "name": "stdout",
     "output_type": "stream",
     "text": [
      "Success 0 1\n",
      "Success 1 5\n",
      "Success 1 7\n",
      "Success 2 1\n",
      "Success 2 1\n",
      "Success 2 5\n",
      "Success 3 6\n",
      "Success 3 8\n",
      "Success 4 1\n",
      "Success 4 5\n",
      "Success 4 8\n",
      "Success 5 3\n",
      "Success 5 3\n",
      "Success 5 4\n",
      "Success 6 1\n",
      "Success 8 0\n",
      "Success 8 2\n",
      "Success 8 2\n",
      "Success 8 4\n",
      "Success 8 4\n",
      "Success 8 6\n",
      "Success 8 6\n",
      "Success 8 7\n",
      "Success 8 8\n"
     ]
    },
    {
     "data": {
      "text/plain": [
       "9"
      ]
     },
     "execution_count": 118,
     "metadata": {},
     "output_type": "execute_result"
    }
   ],
   "source": [
    "def increase(col, min_val, max_val):\n",
    "    j = col\n",
    "    while True:\n",
    "        j += 1\n",
    "        yield j\n",
    "        \n",
    "\n",
    "def decrease(col, min_val, max_val):\n",
    "    j = col\n",
    "    while True:\n",
    "        j -= 1\n",
    "        yield j\n",
    "\n",
    "def nothing(col, boundary, deez):\n",
    "    while True:\n",
    "        yield col\n",
    "\n",
    "def in_range(val, min_val, max_val):\n",
    "    return min_val <= val <= max_val\n",
    "\n",
    "combinations = list(itertools.product([increase, decrease], repeat=2))\n",
    "\n",
    "ncols = len(data[0])\n",
    "nrows = len(data)\n",
    "\n",
    "word = \"MAS\"\n",
    "total = 0\n",
    "\n",
    "a_positions = set()\n",
    "\n",
    "for row in range(nrows):\n",
    "    for col in range(ncols):\n",
    "\n",
    "        curr_row, curr_col = row, col\n",
    "\n",
    "        if (data[curr_row][curr_col] != word[0]):\n",
    "            continue\n",
    "\n",
    "        for (row_op, col_op) in combinations:\n",
    "            pos = 1\n",
    "            success = True\n",
    "            row_gen = row_op(curr_row, 0, 1000)\n",
    "            col_gen = col_op(curr_col, 0, 1000)\n",
    "\n",
    "            while pos < len(word):\n",
    "                r = next(row_gen)\n",
    "                c = next(col_gen)\n",
    "\n",
    "                if not(in_range(r, 0, nrows-1)) or not(in_range(c, 0, ncols-1)) or data[r][c] != word[pos]:\n",
    "                    success = False\n",
    "                    break\n",
    "\n",
    "                if pos == 1:\n",
    "                    a_pos = (r, c)\n",
    "                \n",
    "                pos += 1\n",
    "            \n",
    "            if success:\n",
    "                print(\"Success\", row, col)\n",
    "                if a_pos in a_positions:\n",
    "                    total += 1\n",
    "                else:\n",
    "                    a_positions.add(a_pos)\n",
    "\n",
    "total\n",
    "\n"
   ]
  },
  {
   "cell_type": "code",
   "execution_count": null,
   "metadata": {},
   "outputs": [],
   "source": []
  },
  {
   "cell_type": "code",
   "execution_count": 88,
   "metadata": {},
   "outputs": [
    {
     "data": {
      "text/plain": [
       "<generator object increase at 0x000001D115896E90>"
      ]
     },
     "execution_count": 88,
     "metadata": {},
     "output_type": "execute_result"
    }
   ],
   "source": [
    "g"
   ]
  },
  {
   "cell_type": "code",
   "execution_count": 86,
   "metadata": {},
   "outputs": [],
   "source": [
    "g = increase(0, 0, 2)\n",
    "f = increase(0, 0, 2)"
   ]
  },
  {
   "cell_type": "code",
   "execution_count": 87,
   "metadata": {},
   "outputs": [
    {
     "name": "stdout",
     "output_type": "stream",
     "text": [
      "1 1\n"
     ]
    },
    {
     "ename": "RuntimeError",
     "evalue": "generator raised StopIteration",
     "output_type": "error",
     "traceback": [
      "\u001b[1;31m---------------------------------------------------------------------------\u001b[0m",
      "\u001b[1;31mStopIteration\u001b[0m                             Traceback (most recent call last)",
      "Cell \u001b[1;32mIn[74], line 8\u001b[0m, in \u001b[0;36mincrease\u001b[1;34m(col, min_val, max_val)\u001b[0m\n\u001b[0;32m      7\u001b[0m \u001b[38;5;28;01melse\u001b[39;00m:\n\u001b[1;32m----> 8\u001b[0m     \u001b[38;5;28;01mraise\u001b[39;00m \u001b[38;5;167;01mStopIteration\u001b[39;00m\n",
      "\u001b[1;31mStopIteration\u001b[0m: ",
      "\nThe above exception was the direct cause of the following exception:\n",
      "\u001b[1;31mRuntimeError\u001b[0m                              Traceback (most recent call last)",
      "Cell \u001b[1;32mIn[87], line 1\u001b[0m\n\u001b[1;32m----> 1\u001b[0m \u001b[38;5;28;43;01mfor\u001b[39;49;00m\u001b[43m \u001b[49m\u001b[43ma\u001b[49m\u001b[43m,\u001b[49m\u001b[43m \u001b[49m\u001b[43mb\u001b[49m\u001b[43m \u001b[49m\u001b[38;5;129;43;01min\u001b[39;49;00m\u001b[43m \u001b[49m\u001b[38;5;28;43mzip\u001b[39;49m\u001b[43m(\u001b[49m\u001b[43mg\u001b[49m\u001b[43m,\u001b[49m\u001b[43m \u001b[49m\u001b[43mf\u001b[49m\u001b[43m)\u001b[49m\u001b[43m:\u001b[49m\n\u001b[0;32m      2\u001b[0m \u001b[43m    \u001b[49m\u001b[38;5;28;43mprint\u001b[39;49m\u001b[43m(\u001b[49m\u001b[43ma\u001b[49m\u001b[43m,\u001b[49m\u001b[43m \u001b[49m\u001b[43mb\u001b[49m\u001b[43m)\u001b[49m\n",
      "\u001b[1;31mRuntimeError\u001b[0m: generator raised StopIteration"
     ]
    }
   ],
   "source": [
    "for a, b in zip(g, f):\n",
    "    print(a, b)"
   ]
  },
  {
   "cell_type": "code",
   "execution_count": 58,
   "metadata": {},
   "outputs": [
    {
     "data": {
      "text/plain": [
       "9"
      ]
     },
     "execution_count": 58,
     "metadata": {},
     "output_type": "execute_result"
    }
   ],
   "source": [
    "len(list(itertools.product([increase, decrease, nothing], repeat=2)))"
   ]
  },
  {
   "cell_type": "code",
   "execution_count": 35,
   "metadata": {},
   "outputs": [],
   "source": [
    "u = right(0, 5)"
   ]
  },
  {
   "cell_type": "code",
   "execution_count": 46,
   "metadata": {},
   "outputs": [
    {
     "data": {
      "text/plain": [
       "5"
      ]
     },
     "execution_count": 46,
     "metadata": {},
     "output_type": "execute_result"
    }
   ],
   "source": [
    "next(u)"
   ]
  }
 ],
 "metadata": {
  "kernelspec": {
   "display_name": "Python 3",
   "language": "python",
   "name": "python3"
  },
  "language_info": {
   "codemirror_mode": {
    "name": "ipython",
    "version": 3
   },
   "file_extension": ".py",
   "mimetype": "text/x-python",
   "name": "python",
   "nbconvert_exporter": "python",
   "pygments_lexer": "ipython3",
   "version": "3.12.8"
  }
 },
 "nbformat": 4,
 "nbformat_minor": 2
}
